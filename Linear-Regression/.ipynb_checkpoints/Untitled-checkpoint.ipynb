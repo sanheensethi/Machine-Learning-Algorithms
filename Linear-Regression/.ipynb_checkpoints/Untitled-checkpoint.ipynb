{
 "cells": [
  {
   "cell_type": "code",
   "execution_count": 18,
   "metadata": {},
   "outputs": [
    {
     "name": "stdout",
     "output_type": "stream",
     "text": [
      "[[1. 1.]\n",
      " [2. 3.]]\n",
      "[0. 0.]\n",
      "[4.0, 5.0]\n",
      "[0. 0.]\n"
     ]
    }
   ],
   "source": [
    "import numpy as np\n",
    "#from matplotlib import pyplot as plt\n",
    "#%matplotlib inline\n",
    "\n",
    "def getdata(datafile,delimiter_in_file,header_skiping):\n",
    "    training_data = np.genfromtxt(datafile,delimiter=delimiter_in_file,skip_header = header_skiping)\n",
    "    x = [] # x-axis data\n",
    "    y = [] # y-axis data\n",
    "    features = 2\n",
    "    for i in range(0,len(training_data)):\n",
    "        x.append(float(training_data[i][0]))\n",
    "        y.append(float(training_data[i][1]))\n",
    "    return x,y\n",
    "\n",
    "def getXvectors(x):\n",
    "    x0 = np.ones(len(x))\n",
    "    return np.array([x0,x])\n",
    "\n",
    "def getTvectors(features):\n",
    "    return np.zeros(features).T\n",
    "\n",
    "def error(y,new_y):\n",
    "    return np.sum((new_y-y)**2)/(2 * len(y))\n",
    " \n",
    "def step_gradient(X,Y,B,alpha):\n",
    "    Y_new = new_y(B,X)\n",
    "    loss = Y_new - Y\n",
    "    gradient = (X.dot(loss)/float(len(Y)))\n",
    "    B = B - alpha * gradient\n",
    "    return B\n",
    "    \n",
    "def gradient_descent_runner(X,Y,B,num,alpha):\n",
    "    for i in range(0,num):\n",
    "        B = step_gradient(X,Y,B,alpha)\n",
    "    return B\n",
    "        \n",
    "def new_y(B,X):\n",
    "    return np.dot(B,X)\n",
    "    \n",
    "    \n",
    "x,y = getdata('t2.csv',',',1)\n",
    "\n",
    "X = getXvectors(x) # x vectors / matrices\n",
    "B = getTvectors(2) # thetas\n",
    "print(X)\n",
    "print(B)\n",
    "print(y)\n",
    "Y = new_y(B,X)\n",
    "print(Y)\n",
    "e = error(y,Y)\n"
   ]
  },
  {
   "cell_type": "code",
   "execution_count": null,
   "metadata": {},
   "outputs": [],
   "source": []
  },
  {
   "cell_type": "code",
   "execution_count": null,
   "metadata": {},
   "outputs": [],
   "source": []
  },
  {
   "cell_type": "code",
   "execution_count": null,
   "metadata": {},
   "outputs": [],
   "source": []
  }
 ],
 "metadata": {
  "kernelspec": {
   "display_name": "Python 3",
   "language": "python",
   "name": "python3"
  },
  "language_info": {
   "codemirror_mode": {
    "name": "ipython",
    "version": 3
   },
   "file_extension": ".py",
   "mimetype": "text/x-python",
   "name": "python",
   "nbconvert_exporter": "python",
   "pygments_lexer": "ipython3",
   "version": "3.6.4"
  }
 },
 "nbformat": 4,
 "nbformat_minor": 2
}
