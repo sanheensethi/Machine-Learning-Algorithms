{
 "cells": [
  {
   "cell_type": "code",
   "execution_count": 4,
   "metadata": {},
   "outputs": [
    {
     "data": {
      "image/png": "[encoded data removed]",
      "text/plain": [
       "<Figure size 432x288 with 1 Axes>"
      ]
     },
     "metadata": {},
     "output_type": "display_data"
    }
   ],
   "source": [
    "from numpy import * \n",
    "from matplotlib import pyplot as plt\n",
    "%matplotlib inline\n",
    "\n",
    "def error(m,b,x,y):\n",
    "    total_error = 0.0\n",
    "    for i in range(0,len(x)):\n",
    "        total_error+= ((m * x[i] + b) - y[i]) ** 2\n",
    "    return total_error/float(len(x))\n",
    "\n",
    "def step_gradient(m,b,x,y,learning_rate):\n",
    "    m_gradient = 0.0 #initial gradient\n",
    "    b_gradient = 0.0 #initial intercept\n",
    "    for i in range(0,len(x)):\n",
    "        m_gradient+=(-x[i] * (y[i]- (m * x[i]) + b))\n",
    "        b_gradient+=(-(y[i] - ((m * x[i]) + b)))\n",
    "    new_m = m - (learning_rate * (m_gradient)/float(len(x)))\n",
    "    new_b = b - (learning_rate * (b_gradient)/float(len(x)))\n",
    "    return new_m,new_b\n",
    "    \n",
    "def gradient_descent_run(old_m,old_b,num_iterations,x,y,learning_rate):\n",
    "    m = old_m\n",
    "    b = old_b\n",
    "    for i in range(num_iterations):\n",
    "        m,b = step_gradient(m,b,x,y,learning_rate)\n",
    "    return m,b\n",
    "    \n",
    "def getdata(datafile,delimiter_in_file,header_skiping):\n",
    "    training_data = genfromtxt(datafile,delimiter=delimiter_in_file,skip_header = header_skiping)\n",
    "    x = []\n",
    "    y = []\n",
    "    for i in range(0,len(training_data)):\n",
    "        x.append(training_data[i][0])\n",
    "        y.append(training_data[i][0])\n",
    "    return x,y\n",
    "\n",
    "def run(datafile,delimiter_in_file,skiping_header):\n",
    "    #Getting X and Y values from File\n",
    "    x,y = getdata(datafile,delimiter_in_file,skiping_header)\n",
    "    m_initial = 0 #initial slope\n",
    "    b_initial = 0 #initial intercept\n",
    "    num_iterations = 1000\n",
    "    learning_rate = 0.0001\n",
    "    print()\n",
    "    print('Starting Linear Regression with m = '+str(m_initial)+' b = '+str(b_initial)+' error = ' + str(error(m_initial,b_initial,x,y)))\n",
    "    print('Starting...')\n",
    "    print()\n",
    "    m,b = gradient_descent_run(m_initial,b_initial,num_iterations,x,y,learning_rate)\n",
    "    print()\n",
    "    print('Ending Linear Regression with m = '+str(m)+' b = '+str(b)+' error = ' + str(error(m,b,x,y)))\n",
    "    print()\n",
    "\n",
    "def plot_train_graph(x,y):\n",
    "    print('Scatter Plot')\n",
    "    plt.scatter(x,y)\n",
    "    plt.show()\n",
    "    \n",
    "def plot_final_line(m,b):\n",
    "    print('Printing Best fit Line')\n",
    "    x = range(100)\n",
    "    y = m * float(x) + b\n",
    "    plt.plot(x,y)\n",
    "    plt.show()\n",
    "\n",
    "\n",
    "# --------------Main---------------- #\n",
    "run('train.csv',',',1);"
   ]
  },
  {
   "cell_type": "code",
   "execution_count": null,
   "metadata": {},
   "outputs": [],
   "source": []
  }
 ],
 "metadata": {
  "kernelspec": {
   "display_name": "Python 3",
   "language": "python",
   "name": "python3"
  },
  "language_info": {
   "codemirror_mode": {
    "name": "ipython",
    "version": 3
   },
   "file_extension": ".py",
   "mimetype": "text/x-python",
   "name": "python",
   "nbconvert_exporter": "python",
   "pygments_lexer": "ipython3",
   "version": "3.6.4"
  }
 },
 "nbformat": 4,
 "nbformat_minor": 2
}
